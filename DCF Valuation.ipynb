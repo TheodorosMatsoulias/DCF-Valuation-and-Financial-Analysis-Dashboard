{
 "cells": [
  {
   "cell_type": "markdown",
   "id": "4efaa4e3",
   "metadata": {},
   "source": [
    "# Import Libriaries"
   ]
  },
  {
   "cell_type": "code",
   "execution_count": 1,
   "id": "aee496ee",
   "metadata": {},
   "outputs": [],
   "source": [
    "import pandas as pd\n",
    "import numpy as np \n",
    "import matplotlib.pyplot as plt\n",
    "%matplotlib inline\n",
    "import html5lib\n",
    "import json\n",
    "import time\n",
    "\n",
    "import datetime\n",
    "import feedparser\n",
    "import ftplib\n",
    "import io\n",
    "import requests\n",
    "import requests_html\n",
    "import yahoo_fin.stock_info as si\n",
    "from yahoo_fin import options"
   ]
  },
  {
   "cell_type": "markdown",
   "id": "f6e292ab",
   "metadata": {},
   "source": [
    "# Import API Key "
   ]
  },
  {
   "cell_type": "code",
   "execution_count": 2,
   "id": "dc4f8a54",
   "metadata": {},
   "outputs": [],
   "source": [
    "# API Key \n",
    "demo = \"Enter your API KEY HERE\"\n",
    "\n",
    "# Company Tickers\n",
    "tickers = ['MSFT','ATVI','BAC','NFLX','DIS']\n",
    "\n",
    "# Index Tickers\n",
    "index_tickers = ['^GSPC','^STOXX','^FTSE']\n",
    "\n",
    "# Create empty dictionaries to store data for each company\n",
    "data = {}\n",
    "index_data = {}\n",
    "BS_Fin = {}\n",
    "IS_Fin = {}\n",
    "CF_Fin = {}"
   ]
  },
  {
   "cell_type": "markdown",
   "id": "25e7fa28",
   "metadata": {},
   "source": [
    "# Import Financial Statements Data Function"
   ]
  },
  {
   "cell_type": "code",
   "execution_count": 3,
   "id": "289631d8",
   "metadata": {},
   "outputs": [],
   "source": [
    "def fin_statements (company,freq,num_of_per):\n",
    "    '''\n",
    "    Descreption : obtain companies financial statements based on provided frequency (Annual/Quarter) \n",
    "    and a specific number of periods.\n",
    "    \n",
    "    function parameters:\n",
    "    \n",
    "    company: company ticker name\n",
    "    freq: frequency of financial statements either annual or quarter\n",
    "    num_of_per: number of periods either years or quarters \n",
    "\n",
    "    '''\n",
    "    global BS_Fin\n",
    "    global IS_Fin\n",
    "    global CF_Fin\n",
    "         \n",
    "    try:\n",
    "     \n",
    "        BS = requests.get(f'https://financialmodelingprep.com/api/v3/balance-sheet-statement/{company}?period={freq}&limit={num_of_per}&apikey={demo}').json()\n",
    "        BS = pd.DataFrame(BS)\n",
    "        BS_Fin[company] = BS\n",
    "        time.sleep(5)\n",
    "        \n",
    "        print('BS_completed for: '  \" \" + company)\n",
    "        \n",
    "    except:\n",
    "        \n",
    "        print('ERROR_in_BS for: ' \" \" + company)\n",
    "        \n",
    "    try:\n",
    "\n",
    "        IS = requests.get(f'https://financialmodelingprep.com/api/v3/income-statement/{company}?period={freq}&limit={num_of_per}&apikey={demo}').json()\n",
    "        IS = pd.DataFrame(IS)\n",
    "        IS_Fin[company] = IS\n",
    "        time.sleep(5)\n",
    "        \n",
    "        print('IS_completed for: ' \" \" + company)\n",
    "        \n",
    "    except:\n",
    "        \n",
    "        print('ERROR_in_IS for: ' \" \" + company)\n",
    "        \n",
    "    try:\n",
    "        CF= requests.get(f'https://financialmodelingprep.com/api/v3/cash-flow-statement/{company}?period={freq}&limit={num_of_per}&apikey={demo}').json()\n",
    "        CF = pd.DataFrame(CF)\n",
    "        CF_Fin[company] = CF\n",
    "        time.sleep(5)\n",
    "        \n",
    "        print('CF_completed for: ' \" \" + company)\n",
    "        \n",
    "    except:\n",
    "        \n",
    "        print('ERROR_in_CF for: ' \" \" + company)"
   ]
  },
  {
   "cell_type": "markdown",
   "id": "4224159b",
   "metadata": {},
   "source": [
    "# Import Stock Data Function  "
   ]
  },
  {
   "cell_type": "code",
   "execution_count": 4,
   "id": "83f3812a",
   "metadata": {},
   "outputs": [],
   "source": [
    "def get_data (company,stock_start_date,stock_end_date):\n",
    "    \n",
    "    global data\n",
    "    \n",
    "    try: \n",
    "        # Transform the Json String to Pandas DataFrame\n",
    "        \n",
    "        stocks = requests.get(f'https://financialmodelingprep.com/api/v3/historical-price-full/{company}?from={stock_start_date}&to={stock_end_date}&apikey={demo}').json()\n",
    "        stocks = stocks['historical']\n",
    "        stock_prices_data = pd.DataFrame.from_dict(stocks)\n",
    "        data[company] = stock_prices_data\n",
    "        data[company]['ticker']=company\n",
    "        \n",
    "        # Sort Values by Date\n",
    "        data[company] = data[company].sort_values(by=\"date\")\n",
    "        \n",
    "        # Set Date as Index \n",
    "        data[company] = data[company].set_index('date')\n",
    "        time.sleep(5)\n",
    "            \n",
    "        print('get_data_function_completed for: ' + company)\n",
    "        print(company + \": Data Added Succesfully\")\n",
    "       \n",
    " \n",
    "    except:\n",
    "        \n",
    "        print('ERROR_get_data_function_NOT_completed for: ' + company)\n",
    "        print('ERROR something went wrong with Data : ' + company)"
   ]
  },
  {
   "cell_type": "markdown",
   "id": "30e10363",
   "metadata": {},
   "source": [
    "# Index Import Data"
   ]
  },
  {
   "cell_type": "code",
   "execution_count": 5,
   "id": "63850da3",
   "metadata": {},
   "outputs": [],
   "source": [
    "def index_collection_function(index,index_start_date,index_end_date):\n",
    "    \n",
    "    global index_data\n",
    "    \n",
    "    try:\n",
    "        # Get Daily Index Price Data\n",
    "        index_data[index] = si.get_data(index,start_date=index_start_date,end_date=index_end_date)\n",
    "        \n",
    "        print('index_collection_function_completed for:' + index)\n",
    "        \n",
    "    except:\n",
    "        \n",
    "        print('index_collection_function_NOT_completed for:' + index)"
   ]
  },
  {
   "cell_type": "markdown",
   "id": "32f01e0f",
   "metadata": {},
   "source": [
    "# Data collection"
   ]
  },
  {
   "cell_type": "code",
   "execution_count": 6,
   "id": "2c188e59",
   "metadata": {},
   "outputs": [
    {
     "name": "stdout",
     "output_type": "stream",
     "text": [
      "BS_completed for:  MSFT\n",
      "IS_completed for:  MSFT\n",
      "CF_completed for:  MSFT\n",
      "fin_statements_function for: MSFT  Added\n",
      "get_data_function_completed for: MSFT\n",
      "MSFT: Data Added Succesfully\n",
      "stock_data for: MSFT  Added\n",
      "BS_completed for:  ATVI\n",
      "IS_completed for:  ATVI\n",
      "CF_completed for:  ATVI\n",
      "fin_statements_function for: ATVI  Added\n",
      "get_data_function_completed for: ATVI\n",
      "ATVI: Data Added Succesfully\n",
      "stock_data for: ATVI  Added\n",
      "BS_completed for:  BAC\n",
      "IS_completed for:  BAC\n",
      "CF_completed for:  BAC\n",
      "fin_statements_function for: BAC  Added\n",
      "get_data_function_completed for: BAC\n",
      "BAC: Data Added Succesfully\n",
      "stock_data for: BAC  Added\n",
      "BS_completed for:  NFLX\n",
      "IS_completed for:  NFLX\n",
      "CF_completed for:  NFLX\n",
      "fin_statements_function for: NFLX  Added\n",
      "get_data_function_completed for: NFLX\n",
      "NFLX: Data Added Succesfully\n",
      "stock_data for: NFLX  Added\n",
      "BS_completed for:  DIS\n",
      "IS_completed for:  DIS\n",
      "CF_completed for:  DIS\n",
      "fin_statements_function for: DIS  Added\n",
      "get_data_function_completed for: DIS\n",
      "DIS: Data Added Succesfully\n",
      "stock_data for: DIS  Added\n"
     ]
    }
   ],
   "source": [
    "# Set parameters for companies research \n",
    "freq = 'annual' # Parameter 1 frequency\n",
    "num_of_per = 5 # Parameter 2 number of periods\n",
    "\n",
    "# Stock tickers period selection \n",
    "stock_start_date = '2017-04-20' #Y-M-D\n",
    "stock_end_date = '2022-04-19' #Y-M-D\n",
    "\n",
    "for company in tickers:\n",
    "    \n",
    "    # Import Financial statements Data\n",
    "    try:\n",
    "\n",
    "        fin_statements (company,freq,num_of_per)  \n",
    "\n",
    "        print('fin_statements_function for: ' + company + '  Added')\n",
    "\n",
    "    except:\n",
    "\n",
    "           print('ERROR_fin_statements_function_NOT_Finalized for: ' + company)\n",
    "            \n",
    "    # Import Stock Data        \n",
    "    try:\n",
    "\n",
    "        get_data (company,stock_start_date,stock_end_date)  \n",
    "\n",
    "        print('stock_data for: ' + company + '  Added')\n",
    "\n",
    "    except:\n",
    "\n",
    "           print('ERROR_stock_data_NOT_Finalized for: ' + company)\n"
   ]
  },
  {
   "cell_type": "code",
   "execution_count": 7,
   "id": "01cf04ad",
   "metadata": {},
   "outputs": [
    {
     "name": "stdout",
     "output_type": "stream",
     "text": [
      "index_collection_function_completed for:^GSPC\n",
      "Index: ^GSPC  Added\n",
      "index_collection_function_completed for:^STOXX\n",
      "Index: ^STOXX  Added\n",
      "index_collection_function_completed for:^FTSE\n",
      "Index: ^FTSE  Added\n"
     ]
    }
   ],
   "source": [
    "# Index tickers period selection\n",
    "index_start_date = '04/20/2017' #M-D-Y\n",
    "index_end_date = '04/19/2022' #M-D-Y\n",
    "    \n",
    "for index in index_tickers: \n",
    "    \n",
    "    try:\n",
    "        \n",
    "        index_collection_function(index,index_start_date,index_end_date)        \n",
    "\n",
    "        print('Index: ' + index + '  Added')\n",
    "\n",
    "    except:\n",
    "\n",
    "           print('ERROR Index: ' + index + ' Not Added')\n",
    "    \n",
    "    "
   ]
  },
  {
   "cell_type": "markdown",
   "id": "6a78180d",
   "metadata": {},
   "source": [
    "# Concatinate the financial statements and Stock Data"
   ]
  },
  {
   "cell_type": "code",
   "execution_count": 8,
   "id": "e119d335",
   "metadata": {},
   "outputs": [],
   "source": [
    "# Combine Financial Statements \n",
    "BS_Final = pd.concat(BS_Fin)\n",
    "IS_Final = pd.concat(IS_Fin)\n",
    "CF_Final = pd.concat(CF_Fin)\n",
    "\n",
    "BS_Final['Fin_Year'] = BS_Final['calendarYear']\n",
    "IS_Final['Fin_Year'] = IS_Final['calendarYear']\n",
    "CF_Final['Fin_Year'] = CF_Final['calendarYear']\n",
    "\n",
    "BS_Final = BS_Final.reset_index().set_index(['level_0','Fin_Year']).sort_index().sort_values(['symbol']).drop(columns = ['level_1'])\n",
    "IS_Final = IS_Final.reset_index().set_index(['level_0','Fin_Year']).sort_index().sort_values(['symbol']).drop(columns = ['level_1'])\n",
    "CF_Final = CF_Final.reset_index().set_index(['level_0','Fin_Year']).sort_index().sort_values(['symbol']).drop(columns = ['level_1'])"
   ]
  },
  {
   "cell_type": "code",
   "execution_count": 9,
   "id": "1f0688d1",
   "metadata": {},
   "outputs": [],
   "source": [
    "# Combine Stock Data  \n",
    "data_Final = pd.concat(data)\n",
    "monthly_data_Final = data_Final.reset_index().drop(columns = ['level_0'])\n",
    "monthly_data_Final['Date'] = monthly_data_Final['date']\n",
    "monthly_data_Final['Date'] = pd.to_datetime(monthly_data_Final['Date'])\n",
    "monthly_data_Final = monthly_data_Final.set_index(['Date']).sort_values(['ticker','date'])\n",
    "monthly_data_Final = monthly_data_Final.groupby('ticker').resample('M').mean()\n",
    "monthly_data_Final = monthly_data_Final.reset_index()\n",
    "monthly_data_Final = monthly_data_Final.set_index(['Date'])"
   ]
  },
  {
   "cell_type": "code",
   "execution_count": 10,
   "id": "47e9843a",
   "metadata": {},
   "outputs": [],
   "source": [
    "# Combine Index Data\n",
    "index_data_dataframe = pd.concat(index_data)\n",
    "index_data_dataframe = index_data_dataframe.reset_index().rename(columns={'level_1':'date'})\n",
    "index_data_dataframe['date'] = index_data_dataframe['date'].dt.strftime('%Y-%m-%d')\n",
    "index_data_dataframe = index_data_dataframe.set_index(['level_0','date'])"
   ]
  },
  {
   "cell_type": "code",
   "execution_count": 11,
   "id": "ca0e4ce9",
   "metadata": {},
   "outputs": [],
   "source": [
    "# Export data files into Excel Files\n",
    "BS_Final.to_excel('BS_Final.xlsx',sheet_name='BS_Final')\n",
    "IS_Final.to_excel('IS_Final.xlsx',sheet_name='IS_Final')\n",
    "CF_Final.to_excel('CF_Final.xlsx',sheet_name='CF_Final')\n",
    "data_Final.to_excel('data_Final.xlsx',sheet_name='data_Final')\n",
    "index_data_dataframe.to_excel('index_data_dataframe.xlsx',sheet_name='index_data')"
   ]
  }
 ],
 "metadata": {
  "kernelspec": {
   "display_name": "Python 3",
   "language": "python",
   "name": "python3"
  },
  "language_info": {
   "codemirror_mode": {
    "name": "ipython",
    "version": 3
   },
   "file_extension": ".py",
   "mimetype": "text/x-python",
   "name": "python",
   "nbconvert_exporter": "python",
   "pygments_lexer": "ipython3",
   "version": "3.8.8"
  }
 },
 "nbformat": 4,
 "nbformat_minor": 5
}
